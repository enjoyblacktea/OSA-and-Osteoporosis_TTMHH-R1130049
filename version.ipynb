{
 "cells": [
  {
   "cell_type": "code",
   "execution_count": 1,
   "id": "a3ddb38d",
   "metadata": {},
   "outputs": [
    {
     "name": "stdout",
     "output_type": "stream",
     "text": [
      "Python version: 3.11.11 (main, Dec 11 2024, 16:28:39) [GCC 11.2.0]\n",
      "\n",
      "Package versions:\n",
      "numpy: 1.26.4\n",
      "pandas: 2.2.3\n",
      "matplotlib: 3.10.0\n",
      "seaborn: 0.13.2\n",
      "scipy: 1.12.0\n",
      "scikit-learn: 1.5.2\n",
      "statsmodels: 0.14.4\n",
      "xgboost: 3.0.0\n"
     ]
    },
    {
     "name": "stderr",
     "output_type": "stream",
     "text": [
      "/tmp/ipykernel_412824/2089106222.py:2: DeprecationWarning: pkg_resources is deprecated as an API. See https://setuptools.pypa.io/en/latest/pkg_resources.html\n",
      "  import pkg_resources\n"
     ]
    }
   ],
   "source": [
    "import sys\n",
    "import pkg_resources\n",
    "\n",
    "print(f\"Python version: {sys.version}\")\n",
    "\n",
    "packages = [\n",
    "    \"numpy\", \"pandas\", \"matplotlib\", \"seaborn\", \"scipy\",\n",
    "    \"scikit-learn\", \"statsmodels\", \"xgboost\"\n",
    "]\n",
    "\n",
    "print(\"\\nPackage versions:\")\n",
    "for pkg in packages:\n",
    "    try:\n",
    "        version = pkg_resources.get_distribution(pkg).version\n",
    "        print(f\"{pkg}: {version}\")\n",
    "    except:\n",
    "        print(f\"{pkg}: not installed\")"
   ]
  }
 ],
 "metadata": {
  "kernelspec": {
   "display_name": "test_env1",
   "language": "python",
   "name": "python3"
  },
  "language_info": {
   "codemirror_mode": {
    "name": "ipython",
    "version": 3
   },
   "file_extension": ".py",
   "mimetype": "text/x-python",
   "name": "python",
   "nbconvert_exporter": "python",
   "pygments_lexer": "ipython3",
   "version": "3.11.11"
  }
 },
 "nbformat": 4,
 "nbformat_minor": 5
}
